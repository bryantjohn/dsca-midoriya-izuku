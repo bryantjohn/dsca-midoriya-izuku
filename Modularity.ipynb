{
  "nbformat": 4,
  "nbformat_minor": 0,
  "metadata": {
    "colab": {
      "name": "Modularity.ipynb",
      "provenance": [],
      "collapsed_sections": []
    },
    "kernelspec": {
      "name": "python3",
      "display_name": "Python 3"
    },
    "language_info": {
      "name": "python"
    }
  },
  "cells": [
    {
      "cell_type": "code",
      "metadata": {
        "colab": {
          "base_uri": "https://localhost:8080/"
        },
        "id": "U9j95nc9lrlN",
        "outputId": "1b8210b9-c126-434c-d3da-a50631f2bc96"
      },
      "source": [
        "def do_nothing():\n",
        "  pass\n",
        "\n",
        "print(type(do_nothing))\n",
        "print()\n",
        "\n",
        "def make_sound():\n",
        "  print(\"moo....\")\n",
        "make_sound()\n",
        "print()\n",
        "\n",
        "def agree():\n",
        "  return True\n",
        "agree()\n",
        "print()\n",
        "\n",
        "def cylinder_volume(radius, height):\n",
        "  pi = 3.14159\n",
        "  return pi * height * radius**2\n",
        "\n",
        "volume_1 = cylinder_volume(10,3)\n",
        "print(\"Cylinder volume :\", volume_1)\n",
        "\n",
        "print()\n",
        "\n",
        "def readable_timedelta(days):\n",
        "  number_of_weeks = days // 7\n",
        "  remainder_days = days % 7\n",
        "  if days < 7:\n",
        "    return \"{} day(s)\".format(remainder_days)\n",
        "  if remainder_days == 0:\n",
        "    return \"{} week(s)\".format(number_of_weeks)\n",
        "  return \"{} week(s) and {} day(s)\".format(number_of_weeks, remainder_days)\n",
        "\n",
        "print(readable_timedelta(7))"
      ],
      "execution_count": null,
      "outputs": [
        {
          "output_type": "stream",
          "name": "stdout",
          "text": [
            "<class 'function'>\n",
            "\n",
            "moo....\n",
            "\n",
            "\n",
            "Cylinder volume : 942.4769999999999\n",
            "\n",
            "1 week(s)\n"
          ]
        }
      ]
    }
  ]
}