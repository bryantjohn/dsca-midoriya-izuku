{
  "nbformat": 4,
  "nbformat_minor": 0,
  "metadata": {
    "colab": {
      "name": "Function",
      "provenance": [],
      "collapsed_sections": []
    },
    "kernelspec": {
      "name": "python3",
      "display_name": "Python 3"
    },
    "language_info": {
      "name": "python"
    }
  },
  "cells": [
    {
      "cell_type": "code",
      "metadata": {
        "colab": {
          "base_uri": "https://localhost:8080/"
        },
        "id": "B3XiZuhTgOt9",
        "outputId": "277ad2e2-5982-41fe-95a8-410b5f31c469"
      },
      "source": [
        "def is_bounded(x, lower, upper):\n",
        "    return lower <= x <= upper\n",
        "\n",
        "is_bounded(3, lower=2, upper=4)"
      ],
      "execution_count": null,
      "outputs": [
        {
          "output_type": "execute_result",
          "data": {
            "text/plain": [
              "True"
            ]
          },
          "metadata": {},
          "execution_count": 5
        }
      ]
    },
    {
      "cell_type": "code",
      "metadata": {
        "colab": {
          "base_uri": "https://localhost:8080/"
        },
        "id": "gaRGo7O1iVhg",
        "outputId": "37dfcfd0-b149-4bdf-94a3-e340721ab17a"
      },
      "source": [
        "def is_bounded(x, lower=0, upper=10):\n",
        "    return lower <= x <= upper\n",
        "\n",
        "is_bounded(5)"
      ],
      "execution_count": null,
      "outputs": [
        {
          "output_type": "execute_result",
          "data": {
            "text/plain": [
              "True"
            ]
          },
          "metadata": {},
          "execution_count": 7
        }
      ]
    },
    {
      "cell_type": "code",
      "metadata": {
        "colab": {
          "base_uri": "https://localhost:8080/"
        },
        "id": "CmQasKAxkL1Q",
        "outputId": "60d39146-f4d1-45c4-c41f-40ec43d6a45b"
      },
      "source": [
        "def func(*args): #args bisa diganti dengan variabel yang lain\n",
        "  return args, type(args) \n",
        "\n",
        "func()\n",
        "\n",
        "def do_mean(prefix, *data, suffix, x, y):\n",
        "    print(\"prefix:\", prefix)\n",
        "    print(\"suffix:\", suffix)\n",
        "    print(\"x:\", x)\n",
        "    print(\"y:\", y)\n",
        "\n",
        "    if len(data):\n",
        "        return sum(data) / len(data)\n",
        "    return \"no data provided\"\n",
        "  \n",
        "do_mean(20, 1,2,3,4,5,6,7,8,9, suffix=10, y=5,x=2)"
      ],
      "execution_count": null,
      "outputs": [
        {
          "output_type": "stream",
          "name": "stdout",
          "text": [
            "prefix: 20\n",
            "suffix: 10\n",
            "x: 2\n",
            "y: 5\n"
          ]
        },
        {
          "output_type": "execute_result",
          "data": {
            "text/plain": [
              "5.0"
            ]
          },
          "metadata": {},
          "execution_count": 13
        }
      ]
    },
    {
      "cell_type": "code",
      "metadata": {
        "colab": {
          "base_uri": "https://localhost:8080/"
        },
        "id": "7vmh-W4Dm442",
        "outputId": "ebc93c04-995e-4418-b22b-3008e49c147f"
      },
      "source": [
        "def extend(sequence, *args):\n",
        "  for arg in args :\n",
        "    sequence.append(arg)\n",
        "  return sequence\n",
        "\n",
        "names = [\"Josh\", \"Eric\", \"Joe\"]\n",
        "extend(names,*[\"Hannah\", \"Gerry\"])\n",
        "print(names)"
      ],
      "execution_count": null,
      "outputs": [
        {
          "output_type": "stream",
          "name": "stdout",
          "text": [
            "['Josh', 'Eric', 'Joe', 'Hannah', 'Gerry']\n"
          ]
        }
      ]
    },
    {
      "cell_type": "code",
      "metadata": {
        "colab": {
          "base_uri": "https://localhost:8080/"
        },
        "id": "r2ilMLi9n0Qq",
        "outputId": "9888a348-213e-46af-da1e-13a86f1b183e"
      },
      "source": [
        "def func(**kwargs):\n",
        "  return kwargs\n",
        "\n",
        "func(name=\"bitlabs\", batch=1, classes=\"DSCA\")"
      ],
      "execution_count": null,
      "outputs": [
        {
          "output_type": "execute_result",
          "data": {
            "text/plain": [
              "{'batch': 1, 'classes': 'DSCA', 'name': 'bitlabs'}"
            ]
          },
          "metadata": {},
          "execution_count": 21
        }
      ]
    },
    {
      "cell_type": "code",
      "metadata": {
        "colab": {
          "base_uri": "https://localhost:8080/"
        },
        "id": "hjeRCn-sodLJ",
        "outputId": "092a894d-c6e2-4c3c-a35d-59980b7290df"
      },
      "source": [
        "def func(x,y,*args, **kwargs):\n",
        "  print(\"x:\",x)\n",
        "  print(\"y:\",y)\n",
        "  print(\"args:\", args)\n",
        "  print(\"kwargs:\", kwargs)\n",
        "\n",
        "func(2,3,1,2,3,4,(5,6), name=\"bitlabs\", batch=\"1\")"
      ],
      "execution_count": null,
      "outputs": [
        {
          "output_type": "stream",
          "name": "stdout",
          "text": [
            "x: 2\n",
            "y: 3\n",
            "args: (1, 2, 3, 4, (5, 6))\n",
            "kwargs: {'name': 'bitlabs', 'batch': '1'}\n"
          ]
        }
      ]
    },
    {
      "cell_type": "code",
      "metadata": {
        "colab": {
          "base_uri": "https://localhost:8080/"
        },
        "id": "E_iWhen8sqeS",
        "outputId": "d750538d-fee1-45d4-d787-f561c93754fb"
      },
      "source": [
        "def scope(x,y):\n",
        "  zz = 10\n",
        "  z = x * y\n",
        "\n",
        "  def sum(x,y):\n",
        "    return (x-y)\n",
        "  \n",
        "  return z + sum(x,y)\n",
        "\n",
        "total = scope(5,10)\n",
        "print(\"total:\", total)\n",
        "print(\"total with sum:\",sum([5,10]))"
      ],
      "execution_count": null,
      "outputs": [
        {
          "output_type": "stream",
          "name": "stdout",
          "text": [
            "total: 45\n",
            "total with sum: 15\n"
          ]
        }
      ]
    }
  ]
}