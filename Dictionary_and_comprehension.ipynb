{
  "nbformat": 4,
  "nbformat_minor": 0,
  "metadata": {
    "colab": {
      "name": "Dictionary and comprehension.ipynb",
      "provenance": [],
      "collapsed_sections": []
    },
    "kernelspec": {
      "name": "python3",
      "display_name": "Python 3"
    },
    "language_info": {
      "name": "python"
    }
  },
  "cells": [
    {
      "cell_type": "code",
      "metadata": {
        "colab": {
          "base_uri": "https://localhost:8080/"
        },
        "id": "EepeRP5l-u_v",
        "outputId": "4801ec42-8703-4632-b89c-bd86e3a53afe"
      },
      "source": [
        "# Dictionary\n",
        "\n",
        "height = {\"Adam\": 170 , \"Stuart\": 188 , \"Lee\" : 167 }\n",
        "weight = {\"Adam\":75, \"Stuart\":81, \"Lee\":55}\n",
        "print(height, type(height))\n",
        "print(\"Tinggi Adam adalah\", height[\"Adam\"], \"cm\", \"dan beratnya adalah\", weight[\"Adam\"],\"kg\")\n",
        "print(\"Tinggi Stuart adalah\", height[\"Stuart\"],\"cm\", \"dan beratnya adalah\", weight[\"Stuart\"],\"kg\")\n",
        "print(\"Tinggi Lee adalah\", height[\"Lee\"],\"cm\", \"dan beratnya adalah\", weight[\"Lee\"],\"kg\")\n",
        "print(\"======\")\n",
        "\n",
        "print(height.items())\n",
        "print(height.get(\"Adam\"))\n",
        "print(height.get(\"Lee\"))\n",
        "print(height.get(\"Michael\", \"Oops name is not found\"))\n",
        "print()\n",
        "\n",
        "height.keys()\n",
        "print()\n",
        "\n",
        "numbers = [1,2,3,4,5]\n",
        "doubled_numbers = [2*number for number in numbers]\n",
        "\n",
        "print(numbers)\n",
        "print(doubled_numbers)\n",
        "\n",
        "print(\"======\")"
      ],
      "execution_count": null,
      "outputs": [
        {
          "output_type": "stream",
          "name": "stdout",
          "text": [
            "{'Adam': 170, 'Stuart': 188, 'Lee': 167} <class 'dict'>\n",
            "Tinggi Adam adalah 170 cm dan beratnya adalah 75 kg\n",
            "Tinggi Stuart adalah 188 cm dan beratnya adalah 81 kg\n",
            "Tinggi Lee adalah 167 cm dan beratnya adalah 55 kg\n",
            "======\n",
            "dict_items([('Adam', 170), ('Stuart', 188), ('Lee', 167)])\n",
            "170\n",
            "167\n",
            "Oops name is not found\n",
            "\n",
            "\n",
            "[1, 2, 3, 4, 5]\n",
            "[2, 4, 6, 8, 10]\n"
          ]
        }
      ]
    }
  ]
}