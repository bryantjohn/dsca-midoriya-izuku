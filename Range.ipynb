{
  "nbformat": 4,
  "nbformat_minor": 0,
  "metadata": {
    "colab": {
      "name": "Range.ipynb",
      "provenance": [],
      "collapsed_sections": []
    },
    "kernelspec": {
      "name": "python3",
      "display_name": "Python 3"
    },
    "language_info": {
      "name": "python"
    }
  },
  "cells": [
    {
      "cell_type": "code",
      "metadata": {
        "colab": {
          "base_uri": "https://localhost:8080/"
        },
        "id": "H4-8CRBxeufa",
        "outputId": "a0bb5b0a-f232-49e2-e998-d29b9e7ae2ef"
      },
      "source": [
        "five_to_nine = range(5, 10)\n",
        "to_ten = range(10)\n",
        "to_ten_with_two = range(0, 10, 2)\n",
        "\n",
        "print(five_to_nine)\n",
        "print(to_ten)\n",
        "print(to_ten_with_two)\n",
        "print()\n",
        "print(list(five_to_nine))\n",
        "print(list(to_ten))\n",
        "print(list(to_ten_with_two))\n",
        "print()\n",
        "\n",
        "for x in five_to_nine :\n",
        "  print(x)"
      ],
      "execution_count": null,
      "outputs": [
        {
          "output_type": "stream",
          "name": "stdout",
          "text": [
            "range(5, 10)\n",
            "range(0, 10)\n",
            "range(0, 10, 2)\n",
            "\n",
            "[5, 6, 7, 8, 9]\n",
            "[0, 1, 2, 3, 4, 5, 6, 7, 8, 9]\n",
            "[0, 2, 4, 6, 8]\n",
            "\n",
            "5\n",
            "6\n",
            "7\n",
            "8\n",
            "9\n"
          ]
        }
      ]
    }
  ]
}