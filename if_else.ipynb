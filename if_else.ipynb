{
  "nbformat": 4,
  "nbformat_minor": 0,
  "metadata": {
    "colab": {
      "name": "if else.ipynb",
      "provenance": [],
      "collapsed_sections": []
    },
    "kernelspec": {
      "name": "python3",
      "display_name": "Python 3"
    },
    "language_info": {
      "name": "python"
    }
  },
  "cells": [
    {
      "cell_type": "code",
      "metadata": {
        "colab": {
          "base_uri": "https://localhost:8080/"
        },
        "id": "UF0ggGQn_DbI",
        "outputId": "2fbbcea7-2018-4e2d-86b5-d35c1f3846d8"
      },
      "source": [
        "money = 50000\n",
        "comic_price = 20000\n",
        "novel_price = 60000\n",
        "\n",
        "if money >= comic_price:\n",
        "  print(\"Let's buy a comic\")\n",
        "if money <= comic_price : \n",
        "  print(\"Go home!\")\n",
        "\n",
        "if money >= novel_price:\n",
        "  print(\"Let's buy a comic\")\n",
        "else : \n",
        "  print(\"Go home!\")\n",
        "print(\"Terima kasih telah berkunjung!\")\n",
        "\n",
        "print(\"====================\")\n",
        "\n",
        "uang = 85000\n",
        "\n",
        "if (uang >= 20000) and (uang < 75000):\n",
        "    print(\"let's buy a comic\")\n",
        "else:\n",
        "    if (uang >= 75000) and (uang < 100000):\n",
        "        print(\"let's buy a brand new novel\")\n",
        "    else:\n",
        "        if uang >= 100000:\n",
        "            print(\"Yup! let's buy the expensive magazine\")\n",
        "        else:\n",
        "            print(\"let's go home and collect more money\")\n",
        "\n",
        "if (uang >= 20000) and (uang < 75000):\n",
        "    print(\"let's buy a comic\")\n",
        "elif (uang >= 75000) and (uang < 100000):\n",
        "    print(\"let's buy a brand new novel\")\n",
        "elif uang >= 100000:\n",
        "    print(\"Yup! let's buy the expensive magazine\")\n",
        "else:\n",
        "    print(\"let's go home and collect more money\")\n",
        "\n",
        "print(\"=================\")\n",
        "\n",
        "# points\tprize\n",
        "# 1 - 50\twooden rabbit\n",
        "# 51 - 150\tno prize\n",
        "# 151 - 180\twafer-thin mint\n",
        "# 181 - 200\tpenguin\n",
        "\n",
        "# Misalkan kita ingin mengecek apakah suatu list memiliki elemen atau tidak. Jika tidak ada, maka tampilkan \n",
        "# \"Sayang sekali, tidak ada elemen di sini\". Jika ada, tampilkan \"Untung ada elemennya!\".\n",
        "\n",
        "\n",
        "point_prize = 56\n",
        "\n",
        "if (point_prize >=1) and (point_prize<=50) :\n",
        "  print(\"You got wooden rabbit\")\n",
        "elif (point_prize >=51) and (point_prize<=150) :\n",
        "  print(\"There's no prize for you\")\n",
        "elif (point_prize >=151) and (point_prize<=180):\n",
        "  print(\"You got wafer-thin mint\")\n",
        "elif (point_prize >=181) and (point_prize<=200):\n",
        "  print(\"You got penguin\")\n",
        "\n",
        "elemen = [1,2,3,4,5]\n",
        "number = 2\n",
        "if number in elemen : \n",
        "  print(\"Untung ada elemennya!\")\n",
        "else :\n",
        "  print(\"Sayang sekali, tidak ada elemen di sini\")"
      ],
      "execution_count": null,
      "outputs": [
        {
          "output_type": "stream",
          "name": "stdout",
          "text": [
            "Let's buy a comic\n",
            "Go home!\n",
            "Terima kasih telah berkunjung!\n",
            "====================\n",
            "let's buy a brand new novel\n",
            "let's buy a brand new novel\n",
            "=================\n",
            "There's no prize for you\n",
            "Untung ada elemennya!\n"
          ]
        }
      ]
    }
  ]
}